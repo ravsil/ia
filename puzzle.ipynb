{
  "cells": [
    {
      "cell_type": "markdown",
      "id": "220b51a3",
      "metadata": {
        "id": "220b51a3"
      },
      "source": [
        "# 8-Puzzle Solver"
      ]
    },
    {
      "cell_type": "code",
      "execution_count": 46,
      "id": "125edecb",
      "metadata": {
        "id": "125edecb"
      },
      "outputs": [],
      "source": [
        "import heapq\n",
        "import time\n",
        "import psutil\n",
        "import os"
      ]
    },
    {
      "cell_type": "markdown",
      "id": "ae3ceddf",
      "metadata": {
        "id": "ae3ceddf"
      },
      "source": [
        "## get_ram_usage()\n",
        "Função para obter o total de memória ram usada (em MB) na execução dos algoritmos"
      ]
    },
    {
      "cell_type": "code",
      "execution_count": 47,
      "id": "0138c576",
      "metadata": {
        "id": "0138c576"
      },
      "outputs": [],
      "source": [
        "def get_ram_usage():\n",
        "    process = psutil.Process(os.getpid())\n",
        "    return process.memory_info().rss / 1024 / 1024  # MB"
      ]
    },
    {
      "cell_type": "markdown",
      "id": "3b9a3b6b",
      "metadata": {
        "id": "3b9a3b6b"
      },
      "source": [
        "## rebuild_path(start, finish)\n",
        "Função para reconstruir o caminho feito entre dois estados do puzzle.\n",
        "\n",
        "Seu propósito é puramente por fins de economia de memória. Com ela, é possível guardar apenas as transições de estado entre os nós da árvore e reconstruir o caminho correto no final, ao invés de guardar todos os caminhos explorados.\n",
        "### Exemplo de uso\n",
        "Seja o estado inicial (1, 2, 3, 4, 5, 6, 7, 0, 8) e o estado final (1, 2, 3, 4, 5, 6, 7, 8, 0):\n",
        "Nessa instância, a função retorna \"Right\", já que o 0 foi trocado de lugar com o número 8 (e o número 8 por sua vez estava à direita do 0 no puzzle)"
      ]
    },
    {
      "cell_type": "code",
      "execution_count": 48,
      "id": "9e9e6f38",
      "metadata": {
        "id": "9e9e6f38"
      },
      "outputs": [],
      "source": [
        "def rebuild_path(start, finish):\n",
        "    i = start.index(\"9\")\n",
        "    if i > 2:\n",
        "        cpy = list(start)\n",
        "        cpy[i], cpy[i - 3] = cpy[i - 3], cpy[i]\n",
        "        if \"\".join(cpy) == finish:\n",
        "            return \"Up\"\n",
        "    if i < 6:\n",
        "        cpy = list(start)\n",
        "        cpy[i], cpy[i + 3] = cpy[i + 3], cpy[i]\n",
        "        if \"\".join(cpy) == finish:\n",
        "            return \"Down\"\n",
        "    if i % 3 != 0:\n",
        "        cpy = list(start)\n",
        "        cpy[i], cpy[i - 1] = cpy[i - 1], cpy[i]\n",
        "        if \"\".join(cpy) == finish:\n",
        "            return \"Left\"\n",
        "    if i % 3 != 2:\n",
        "        cpy = list(start)\n",
        "        cpy[i], cpy[i + 1] = cpy[i + 1], cpy[i]\n",
        "        if \"\".join(cpy) == finish:\n",
        "            return \"Right\""
      ]
    },
    {
      "cell_type": "markdown",
      "id": "2e9358d6",
      "metadata": {
        "id": "2e9358d6"
      },
      "source": [
        "## manhattan(current, goal=\"123456789\"):\n",
        "Função para calcular o quão distante cada peça está do estado final utilizando a distância Manhattan"
      ]
    },
    {
      "cell_type": "code",
      "execution_count": 49,
      "id": "c05ab40e",
      "metadata": {
        "id": "c05ab40e"
      },
      "outputs": [],
      "source": [
        "def manhattan(current, goal=\"123456789\"):\n",
        "    dist = 0\n",
        "    for i, val in enumerate(current):\n",
        "        if val == '9':\n",
        "          continue\n",
        "        target = goal.index(val)\n",
        "        dist += abs(target // 3 - i // 3) + abs(target % 3 - i % 3)\n",
        "    return dist"
      ]
    },
    {
      "cell_type": "markdown",
      "id": "ciMwt9hc5xpV",
      "metadata": {
        "id": "ciMwt9hc5xpV"
      },
      "source": [
        "## def get_next(a, b, current, tree, queue, cost, depth):\n",
        "Função para obter o próximo estado do puzzle. Primeiro é feita a troca do 0 com o número adjacente (cima, baixo, esquerda ou direita). Depois, é verificado se o estado já foi visitado. Se não, ele é adicionado à fila e o nó é adicionado à árvore. O algoritmo A* incluí uma verificação para não incluir caminhos com custo muito elevados"
      ]
    },
    {
      "cell_type": "code",
      "execution_count": 50,
      "id": "xrWqLlAC7sGi",
      "metadata": {
        "id": "xrWqLlAC7sGi"
      },
      "outputs": [],
      "source": [
        "def get_next_astar(a, b, current, tree, queue, cost, depth):\n",
        "    l = list(current)\n",
        "    l[a], l[b] = l[b], l[a]\n",
        "    target = int(''.join(l))\n",
        "    if target not in tree or depth + 1 < cost.get(target, float('inf')):\n",
        "        cost[target] = depth + 1\n",
        "        heapq.heappush(queue, (cost[target] + manhattan(str(target)), depth + 1, target))\n",
        "        tree[target] = current\n",
        "\n",
        "def get_next_gulosa(a, b, current, tree, queue, depth):\n",
        "    l = list(current)\n",
        "    l[a], l[b] = l[b], l[a]\n",
        "    target = int(''.join(l))\n",
        "    if target not in tree:\n",
        "        heapq.heappush(queue, (manhattan(str(target)), depth + 1, target))\n",
        "        tree[target] = current"
      ]
    },
    {
      "cell_type": "markdown",
      "id": "82a7ff85",
      "metadata": {
        "id": "82a7ff85"
      },
      "source": [
        "## Astar(puzzle)  \n",
        "### Algoritmo A*  \n",
        "A função resolve o puzzle usando o algoritmo A*, que é uma busca heurística. Assim como nos algoritmos feitos anteriormente, antes de iniciar, são feitas otimizações:\n",
        "- A tupla inicial é transformada em uma string e depois em inteiro, substituindo o `0` por `9`, para economizar memória e evitar problemas de conversão como no caso `012345678` virando `12345678`.\n",
        "\n",
        "O A* usa uma fila de prioridade (`heapq`) para explorar os nós com menor custo estimado primeiro. Cada entrada da fila é uma tupla `(f, depth, puzzle)` onde `f = custo acumulado + heurística`. A função `get_next_astar` cuida de calcular isso e adicionar os próximos estados à fila.\n",
        "\n",
        "\n",
        "\n"
      ]
    },
    {
      "cell_type": "code",
      "execution_count": 51,
      "id": "73ba8e3e",
      "metadata": {
        "id": "73ba8e3e"
      },
      "outputs": [],
      "source": [
        "def Astar(puzzle):\n",
        "    puzzle = int(\"\".join([str(x) for x in puzzle]).replace(\"0\", \"9\"))\n",
        "    GOAL = \"123456789\"\n",
        "    queue = []\n",
        "    heapq.heappush(queue, (0, 0, puzzle))\n",
        "    visited = set()\n",
        "    tree = {puzzle: -1}\n",
        "    cost = {puzzle: 0}\n",
        "    data = {\n",
        "        \"path_to_goal\": [],\n",
        "        \"cost_of_path\": 0,\n",
        "        \"nodes_expanded\": 0,\n",
        "        \"fringe_size\": 0,\n",
        "        \"max_fringe_size\": 0,\n",
        "        \"search_depth\": 0,\n",
        "        \"max_search_depth\": 0,\n",
        "        \"running_time\": time.time(),\n",
        "        \"max_ram_usage\": 0\n",
        "    }\n",
        "    while queue:\n",
        "        data[\"max_fringe_size\"] = max(data[\"max_fringe_size\"], len(queue))\n",
        "        data[\"max_ram_usage\"] = max(data[\"max_ram_usage\"], get_ram_usage())\n",
        "        _, depth, current = heapq.heappop(queue)\n",
        "        if current in visited:\n",
        "            continue\n",
        "        visited.add(current)\n",
        "        current = str(current)\n",
        "        data[\"nodes_expanded\"] += 1\n",
        "        data[\"search_depth\"] = max(data[\"search_depth\"], depth)\n",
        "        data[\"max_search_depth\"] = max(data[\"max_search_depth\"], depth)\n",
        "        if current == GOAL:\n",
        "            current = int(current)\n",
        "            while tree[current] != -1:\n",
        "                data[\"path_to_goal\"].append(rebuild_path(str(tree[current]), str(current)))\n",
        "                current = int(tree[current])\n",
        "            data[\"path_to_goal\"].reverse()\n",
        "            data[\"cost_of_path\"] = len(data[\"path_to_goal\"])\n",
        "            data[\"fringe_size\"] = len(queue)\n",
        "            data[\"running_time\"] = time.time() - data[\"running_time\"]\n",
        "            return data\n",
        "        i = current.index('9')\n",
        "        if i % 3 != 2: # right\n",
        "            get_next_astar(i, i + 1, current, tree, queue, cost, depth)\n",
        "        if i % 3 != 0: # left\n",
        "            get_next_astar(i, i - 1, current, tree, queue, cost, depth)\n",
        "        if i < 6: # down\n",
        "            get_next_astar(i, i + 3, current, tree, queue, cost, depth)\n",
        "        if i > 2: # up\n",
        "            get_next_astar(i, i - 3, current, tree, queue, cost, depth)\n",
        "    data[\"fringe_size\"] = len(queue)\n",
        "    data[\"running_time\"] = time.time() - data[\"running_time\"]\n",
        "    data[\"path_to_goal\"] = \"Sem solução\"\n",
        "    return data"
      ]
    },
    {
      "cell_type": "markdown",
      "id": "995dcaa6",
      "metadata": {
        "id": "995dcaa6"
      },
      "source": [
        "## busca_gulosa(puzzle)\n",
        "### Algoritmo de busca gulosa\n",
        "O algoritmo de busca gulosa se diferencia do A* no momento onde são calculadas as distâncias, o A* utiliza a distância total, diferentemente do de busca gulosa, que calcula apenas a distância para o próximo estado"
      ]
    },
    {
      "cell_type": "code",
      "execution_count": 52,
      "id": "84397de7",
      "metadata": {
        "id": "84397de7"
      },
      "outputs": [],
      "source": [
        "def busca_gulosa(puzzle):\n",
        "    puzzle = int(\"\".join([str(x) for x in puzzle]).replace(\"0\", \"9\"))\n",
        "    GOAL = \"123456789\"\n",
        "    queue = []\n",
        "    heapq.heappush(queue, (manhattan(str(puzzle)), 0, puzzle))\n",
        "    visited = set()\n",
        "    tree = {puzzle: -1}\n",
        "    data = {\n",
        "        \"path_to_goal\": [],\n",
        "        \"cost_of_path\": 0,\n",
        "        \"nodes_expanded\": 0,\n",
        "        \"fringe_size\": 0,\n",
        "        \"max_fringe_size\": 0,\n",
        "        \"search_depth\": 0,\n",
        "        \"max_search_depth\": 0,\n",
        "        \"running_time\": time.time(),\n",
        "        \"max_ram_usage\": 0\n",
        "    }\n",
        "    while queue:\n",
        "        data[\"max_fringe_size\"] = max(data[\"max_fringe_size\"], len(queue))\n",
        "        data[\"max_ram_usage\"] = max(data[\"max_ram_usage\"], get_ram_usage())\n",
        "        _, depth, current = heapq.heappop(queue)\n",
        "        if current in visited:\n",
        "            continue\n",
        "        visited.add(current)\n",
        "        current = str(current)\n",
        "        data[\"nodes_expanded\"] += 1\n",
        "        data[\"search_depth\"] = max(data[\"search_depth\"], depth)\n",
        "        data[\"max_search_depth\"] = max(data[\"max_search_depth\"], depth)\n",
        "        if current == GOAL:\n",
        "            current = int(current)\n",
        "            while tree[current] != -1:\n",
        "                data[\"path_to_goal\"].append(rebuild_path(str(tree[current]), str(current)))\n",
        "                current = int(tree[current])\n",
        "            data[\"path_to_goal\"].reverse()\n",
        "            data[\"cost_of_path\"] = len(data[\"path_to_goal\"])\n",
        "            data[\"fringe_size\"] = len(queue)\n",
        "            data[\"running_time\"] = time.time() - data[\"running_time\"]\n",
        "            return data\n",
        "        i = current.index('9')\n",
        "        if i % 3 != 2: # right\n",
        "            get_next_gulosa(i, i + 1, current, tree, queue, depth)\n",
        "        if i % 3 != 0: # left\n",
        "            get_next_gulosa(i, i - 1, current, tree, queue, depth)\n",
        "        if i < 6: # down\n",
        "            get_next_gulosa(i, i + 3, current, tree, queue, depth)\n",
        "        if i > 2: # up\n",
        "            get_next_gulosa(i, i - 3, current, tree, queue, depth)\n",
        "    data[\"fringe_size\"] = len(queue)\n",
        "    data[\"running_time\"] = time.time() - data[\"running_time\"]\n",
        "    data[\"path_to_goal\"] = \"Sem solução\"\n",
        "    return data"
      ]
    },
    {
      "cell_type": "markdown",
      "id": "IfWu3ldIuj9Y",
      "metadata": {
        "id": "IfWu3ldIuj9Y"
      },
      "source": [
        "# Exemplo de uso"
      ]
    },
    {
      "cell_type": "code",
      "execution_count": null,
      "id": "7d6d2b1d",
      "metadata": {
        "colab": {
          "base_uri": "https://localhost:8080/"
        },
        "id": "7d6d2b1d",
        "outputId": "12a9249b-2afa-456f-97c3-192f629d768b"
      },
      "outputs": [],
      "source": [
        "puzzle = (0, 8, 7, 6, 5, 4, 3, 2, 1)\n",
        "print(\"A*\")\n",
        "for key, value in Astar(puzzle).items():\n",
        "    print(f\"{key}: {value}\")\n",
        "print(\"Busca Gulosa\")\n",
        "for key, value in busca_gulosa(puzzle).items():\n",
        "    print(f\"{key}: {value}\")"
      ]
    },
    {
      "cell_type": "markdown",
      "id": "B26sym7Vwb3a",
      "metadata": {
        "id": "B26sym7Vwb3a"
      },
      "source": [
        "## Análise\n",
        "É possível observar que ambos os algoritmos chegaram na mesma solução, porém o A* obteve um desempenho 20x pior, tanto em relação ao número de nós expandido quanto em relação ao tempo, essa diferença se dá devido ao jeito como os caminhos são salvos na fila."
      ]
    },
    {
      "cell_type": "code",
      "execution_count": null,
      "id": "VvPx7hSkyhVV",
      "metadata": {
        "colab": {
          "base_uri": "https://localhost:8080/"
        },
        "id": "VvPx7hSkyhVV",
        "outputId": "a30e4715-2a86-40d7-88ab-dedf881fd21b"
      },
      "outputs": [],
      "source": [
        "puzzle = (1,2,3,4,5,7,6,0,8)\n",
        "print(\"A*\")\n",
        "for key, value in Astar(puzzle).items():\n",
        "    print(f\"{key}: {value}\")\n",
        "print(\"Busca Gulosa\")\n",
        "for key, value in busca_gulosa(puzzle).items():\n",
        "    print(f\"{key}: {value}\")"
      ]
    },
    {
      "cell_type": "markdown",
      "id": "sYicEQhFyk9e",
      "metadata": {
        "id": "sYicEQhFyk9e"
      },
      "source": [
        "## Análise\n",
        "Mesmo quando a solução não existe, o tempo médio de execução dos algoritmos é bem baixo, o que mostra uma superioridade em relação aos outros algoritmos testados nesse problema (BFS, DFS e IDFS)"
      ]
    }
  ],
  "metadata": {
    "colab": {
      "provenance": []
    },
    "kernelspec": {
      "display_name": "Python 3",
      "language": "python",
      "name": "python3"
    },
    "language_info": {
      "name": "python",
      "version": "3.12.3"
    }
  },
  "nbformat": 4,
  "nbformat_minor": 5
}
