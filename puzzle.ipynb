{
 "cells": [
  {
   "cell_type": "markdown",
   "id": "220b51a3",
   "metadata": {
    "id": "220b51a3"
   },
   "source": [
    "# 8-Puzzle Solver"
   ]
  },
  {
   "cell_type": "code",
   "execution_count": 32,
   "id": "125edecb",
   "metadata": {
    "executionInfo": {
     "elapsed": 62,
     "status": "ok",
     "timestamp": 1743972494191,
     "user": {
      "displayName": "Rafael",
      "userId": "15205371055636794135"
     },
     "user_tz": 180
    },
    "id": "125edecb"
   },
   "outputs": [],
   "source": [
    "from collections import deque\n",
    "import time\n",
    "import psutil\n",
    "import os"
   ]
  },
  {
   "cell_type": "markdown",
   "id": "ae3ceddf",
   "metadata": {
    "id": "ae3ceddf"
   },
   "source": [
    "## get_ram_usage()\n",
    "Função para obter o total de memória ram usada (em MB) na execução dos algoritmos"
   ]
  },
  {
   "cell_type": "code",
   "execution_count": 33,
   "id": "0138c576",
   "metadata": {
    "executionInfo": {
     "elapsed": 11,
     "status": "ok",
     "timestamp": 1743972494213,
     "user": {
      "displayName": "Rafael",
      "userId": "15205371055636794135"
     },
     "user_tz": 180
    },
    "id": "0138c576"
   },
   "outputs": [],
   "source": [
    "def get_ram_usage():\n",
    "    process = psutil.Process(os.getpid())\n",
    "    return process.memory_info().rss / 1024 / 1024  # MB"
   ]
  },
  {
   "cell_type": "markdown",
   "id": "3b9a3b6b",
   "metadata": {
    "id": "3b9a3b6b"
   },
   "source": [
    "## rebuild_path(start, finish)\n",
    "Função para reconstruir o caminho feito entre dois estados do puzzle.\n",
    "\n",
    "Seu propósito é puramente por fins de economia de memória. Com ela, é possível guardar apenas as transições de estado entre os nós da árvore e reconstruir o caminho correto no final, ao invés de guardar todos os caminhos explorados.\n",
    "### Exemplo de uso\n",
    "Seja o estado inicial (1, 2, 3, 4, 5, 6, 7, 0, 8) e o estado final (1, 2, 3, 4, 5, 6, 7, 8, 0):\n",
    "Nessa instância, a função retorna \"Right\", já que o 0 foi trocado de lugar com o número 8 (e o número 8 por sua vez estava à direita do 0 no puzzle)"
   ]
  },
  {
   "cell_type": "code",
   "execution_count": 34,
   "id": "9e9e6f38",
   "metadata": {
    "executionInfo": {
     "elapsed": 8,
     "status": "ok",
     "timestamp": 1743972494229,
     "user": {
      "displayName": "Rafael",
      "userId": "15205371055636794135"
     },
     "user_tz": 180
    },
    "id": "9e9e6f38"
   },
   "outputs": [],
   "source": [
    "def rebuild_path(start, finish):\n",
    "    i = start.index(\"9\")\n",
    "    if i > 2:\n",
    "        cpy = list(start)\n",
    "        cpy[i], cpy[i - 3] = cpy[i - 3], cpy[i]\n",
    "        if \"\".join(cpy) == finish:\n",
    "            return \"Up\"\n",
    "    if i < 6:\n",
    "        cpy = list(start)\n",
    "        cpy[i], cpy[i + 3] = cpy[i + 3], cpy[i]\n",
    "        if \"\".join(cpy) == finish:\n",
    "            return \"Down\"\n",
    "    if i % 3 != 0:\n",
    "        cpy = list(start)\n",
    "        cpy[i], cpy[i - 1] = cpy[i - 1], cpy[i]\n",
    "        if \"\".join(cpy) == finish:\n",
    "            return \"Left\"\n",
    "    if i % 3 != 2:\n",
    "        cpy = list(start)\n",
    "        cpy[i], cpy[i + 1] = cpy[i + 1], cpy[i]\n",
    "        if \"\".join(cpy) == finish:\n",
    "            return \"Right\""
   ]
  },
  {
   "cell_type": "markdown",
   "id": "2e9358d6",
   "metadata": {
    "id": "2e9358d6"
   },
   "source": [
    "## get_next(a, b, current, tree, ds, depth):\n",
    "Função para obter o próximo estado do puzzle. Primeiro é feita a troca do 0 com o número adjacente (cima, baixo, esquerda ou direita). Depois, é verificado se o estado já foi visitado. Se não, ele é adicionado à lista/pilha (dependendo do algoritmo) e o nó é adicionado à árvore."
   ]
  },
  {
   "cell_type": "code",
   "execution_count": 35,
   "id": "c05ab40e",
   "metadata": {
    "executionInfo": {
     "elapsed": 7,
     "status": "ok",
     "timestamp": 1743972494242,
     "user": {
      "displayName": "Rafael",
      "userId": "15205371055636794135"
     },
     "user_tz": 180
    },
    "id": "c05ab40e"
   },
   "outputs": [],
   "source": [
    "def get_next(a, b, current, tree, ds, depth):\n",
    "    l = list(current)\n",
    "    l[a], l[b] = l[b], l[a]\n",
    "    target = int(''.join(l))\n",
    "    if target not in tree:\n",
    "        ds.append((depth + 1, target))\n",
    "        tree[target] = current"
   ]
  },
  {
   "cell_type": "markdown",
   "id": "82a7ff85",
   "metadata": {
    "id": "82a7ff85"
   },
   "source": [
    "## bfs(puzzle)\n",
    "### Algoritmo de busca em largura\n",
    "A função utiliza o algoritmo de busca em largura para resolver o puzzle. Mas antes disso são feitas algumas otimizações:\n",
    "- O código `\"\".join([str(x) for x in puzzle])` transforma a tupla inicial em uma string, já que a tupla ocupava mais espaço na memória.\n",
    "- Em `.replace(\"0\", \"9\")` o 0 é substituído pelo 9, e logo em seguida a string é convertida em um inteiro. Essa substituição serve para evitar casos como `\"012345678\"`, que seriam convertidos para `12345678` e o 0 seria perdido.\n",
    "Com isso, é possível transformar os 9 números da tuppla inicial em um inteiro de 9 dígitos, o que ocupa um espaço 9x menor na memória.\n",
    "\n",
    "Após isso, o algoritmo de busca em largura é executado normalmente de maneira não recursiva."
   ]
  },
  {
   "cell_type": "code",
   "execution_count": 36,
   "id": "73ba8e3e",
   "metadata": {
    "executionInfo": {
     "elapsed": 16,
     "status": "ok",
     "timestamp": 1743972494290,
     "user": {
      "displayName": "Rafael",
      "userId": "15205371055636794135"
     },
     "user_tz": 180
    },
    "id": "73ba8e3e"
   },
   "outputs": [],
   "source": [
    "def bfs(puzzle):\n",
    "    puzzle = int(\"\".join([str(x) for x in puzzle]).replace(\"0\", \"9\"))\n",
    "    GOAL = \"123456789\"\n",
    "    queue = deque()\n",
    "    queue.append((0, puzzle))\n",
    "    visited = set()\n",
    "    tree = {puzzle: -1}\n",
    "    data = {\n",
    "        \"path_to_goal\": [],\n",
    "        \"cost_of_path\": 0,\n",
    "        \"nodes_expanded\": 0,\n",
    "        \"fringe_size\": 0,\n",
    "        \"max_fringe_size\": 0,\n",
    "        \"search_depth\": 0,\n",
    "        \"max_search_depth\": 0,\n",
    "        \"running_time\": time.time(),\n",
    "        \"max_ram_usage\": 0\n",
    "    }\n",
    "    while queue:\n",
    "        data[\"max_fringe_size\"] = max(data[\"max_fringe_size\"], len(queue))\n",
    "        data[\"max_ram_usage\"] = max(data[\"max_ram_usage\"], get_ram_usage())\n",
    "\n",
    "        depth, current = queue.popleft()\n",
    "        if current in visited:\n",
    "            continue\n",
    "        visited.add(current)\n",
    "        current = str(current)\n",
    "        data[\"nodes_expanded\"] += 1\n",
    "        data[\"search_depth\"] = max(data[\"search_depth\"], depth)\n",
    "        data[\"max_search_depth\"] = max(data[\"max_search_depth\"], depth)\n",
    "        if current == GOAL:\n",
    "            current = int(current)\n",
    "            while tree[current] != -1:\n",
    "                data[\"path_to_goal\"].append(rebuild_path(tree[current], str(current)))\n",
    "                current = int(tree[current])\n",
    "            data[\"path_to_goal\"].reverse()\n",
    "            data[\"cost_of_path\"] = len(data[\"path_to_goal\"])\n",
    "            data[\"fringe_size\"] = len(queue)\n",
    "            data[\"running_time\"] = time.time() - data[\"running_time\"]\n",
    "            return data\n",
    "\n",
    "        i = current.index('9')\n",
    "        if i % 3 != 2: # right\n",
    "            get_next(i, i + 1, current, tree, queue, depth)\n",
    "        if i % 3 != 0: # left\n",
    "            get_next(i, i - 1, current, tree, queue, depth)\n",
    "        if i < 6: # down\n",
    "            get_next(i, i + 3, current, tree, queue, depth)\n",
    "        if i > 2: # up\n",
    "            get_next(i, i - 3, current, tree, queue, depth)\n",
    "    return \"Sem solução\""
   ]
  },
  {
   "cell_type": "markdown",
   "id": "995dcaa6",
   "metadata": {
    "id": "995dcaa6"
   },
   "source": [
    "## dfs(puzzle)\n",
    "### Algoritmo de busca em profundidade\n",
    "O funcionamento do algoritmo de busca em profundidade se dá de maneira exatamente igual ao algoritmo de busca em largura, com a diferença de que é utilizada uma pilha ao invés de uma fila."
   ]
  },
  {
   "cell_type": "code",
   "execution_count": 37,
   "id": "84397de7",
   "metadata": {
    "executionInfo": {
     "elapsed": 61,
     "status": "ok",
     "timestamp": 1743972494344,
     "user": {
      "displayName": "Rafael",
      "userId": "15205371055636794135"
     },
     "user_tz": 180
    },
    "id": "84397de7"
   },
   "outputs": [],
   "source": [
    "def dfs(puzzle):\n",
    "    puzzle = int(\"\".join([str(x) for x in puzzle]).replace(\"0\", \"9\"))\n",
    "    GOAL = \"123456789\"\n",
    "    stack = deque()\n",
    "    stack.append((0, puzzle))\n",
    "    visited = set()\n",
    "    tree = {puzzle: -1}\n",
    "    data = {\n",
    "        \"path_to_goal\": [],\n",
    "        \"cost_of_path\": 0,\n",
    "        \"nodes_expanded\": 0,\n",
    "        \"fringe_size\": 0,\n",
    "        \"max_fringe_size\": 0,\n",
    "        \"search_depth\": 0,\n",
    "        \"max_search_depth\": 0,\n",
    "        \"running_time\": time.time(),\n",
    "        \"max_ram_usage\": 0\n",
    "    }\n",
    "    while stack:\n",
    "        data[\"max_fringe_size\"] = max(data[\"max_fringe_size\"], len(stack))\n",
    "        data[\"max_ram_usage\"] = max(data[\"max_ram_usage\"], get_ram_usage())\n",
    "\n",
    "        depth, current = stack.pop()\n",
    "        if current in visited:\n",
    "            continue\n",
    "        visited.add(current)\n",
    "        current = str(current)\n",
    "        data[\"nodes_expanded\"] += 1\n",
    "        data[\"search_depth\"] = max(data[\"search_depth\"], depth)\n",
    "        data[\"max_search_depth\"] = max(data[\"max_search_depth\"], depth)\n",
    "        if current == GOAL:\n",
    "            current = int(current)\n",
    "            while tree[current] != -1:\n",
    "                data[\"path_to_goal\"].append(rebuild_path(tree[current], str(current)))\n",
    "                current = int(tree[current])\n",
    "            data[\"path_to_goal\"].reverse()\n",
    "            data[\"cost_of_path\"] = len(data[\"path_to_goal\"])\n",
    "            data[\"fringe_size\"] = len(stack)\n",
    "            data[\"running_time\"] = time.time() - data[\"running_time\"]\n",
    "            return data\n",
    "\n",
    "        i = current.index('9')\n",
    "        if i % 3 != 2: # right\n",
    "            get_next(i, i + 1, current, tree, stack, depth)\n",
    "        if i % 3 != 0: # left\n",
    "            get_next(i, i - 1, current, tree, stack, depth)\n",
    "        if i > 2: # up\n",
    "            get_next(i, i - 3, current, tree, stack, depth)\n",
    "        if i < 6: # down\n",
    "            get_next(i, i + 3, current, tree, stack, depth)\n",
    "    return \"Sem solução\"\n",
    "\n"
   ]
  },
  {
   "cell_type": "markdown",
   "id": "bf8b0fb5",
   "metadata": {
    "id": "bf8b0fb5"
   },
   "source": [
    "## idfs(puzzle)\n",
    "### Algoritmo de busca em profundidade iterativa\n",
    "Do mesmo modo, o algoritmo de busca em profundidade iterativa funciona como o algoritmo de busca em profundidade. Porém, ele introduz um limite de profundidade que vai sendo incrementado a cada iteração, o que faz com que ele  explore mais caminhos, assemelhando-se mais ao algoritmo de busca em largura."
   ]
  },
  {
   "cell_type": "code",
   "execution_count": 38,
   "id": "e4b78da7",
   "metadata": {
    "executionInfo": {
     "elapsed": 26,
     "status": "ok",
     "timestamp": 1743972494364,
     "user": {
      "displayName": "Rafael",
      "userId": "15205371055636794135"
     },
     "user_tz": 180
    },
    "id": "e4b78da7"
   },
   "outputs": [],
   "source": [
    "def idfs(puzzle):\n",
    "    puzzle = int(\"\".join([str(x) for x in puzzle]).replace(\"0\", \"9\"))\n",
    "    GOAL = \"123456789\"\n",
    "    limit = 0\n",
    "    data = {\n",
    "        \"path_to_goal\": [],\n",
    "        \"cost_of_path\": 0,\n",
    "        \"nodes_expanded\": 0,\n",
    "        \"fringe_size\": 0,\n",
    "        \"max_fringe_size\": 0,\n",
    "        \"search_depth\": 0,\n",
    "        \"max_search_depth\": 0,\n",
    "        \"running_time\": time.time(),\n",
    "        \"max_ram_usage\": 0\n",
    "    }\n",
    "\n",
    "    while True:\n",
    "        stack = deque()\n",
    "        stack.append((0, puzzle))\n",
    "        visited = {puzzle: 0}\n",
    "        tree = {puzzle: -1}\n",
    "\n",
    "        while stack:\n",
    "            data[\"max_fringe_size\"] = max(data[\"max_fringe_size\"], len(stack))\n",
    "            data[\"max_ram_usage\"] = max(data[\"max_ram_usage\"], get_ram_usage())\n",
    "\n",
    "            depth, current = stack.pop()\n",
    "            if depth > limit:\n",
    "                continue\n",
    "            current_str = str(current)\n",
    "            data[\"nodes_expanded\"] += 1\n",
    "            data[\"search_depth\"] = depth\n",
    "            data[\"max_search_depth\"] = max(data[\"max_search_depth\"], depth)\n",
    "            if current_str == GOAL:\n",
    "                while tree[current] != -1:\n",
    "                    data[\"path_to_goal\"].append(rebuild_path(str(tree[current]), str(current)))\n",
    "                    current = int(tree[current])\n",
    "                data[\"path_to_goal\"].reverse()\n",
    "                data[\"cost_of_path\"] = len(data[\"path_to_goal\"])\n",
    "                data[\"fringe_size\"] = len(stack)\n",
    "                data[\"running_time\"] = time.time() - data[\"running_time\"]\n",
    "                return data\n",
    "\n",
    "            i = current_str.index('9')\n",
    "            neighbors = []\n",
    "            if i % 3 != 2:\n",
    "                l = list(current_str)\n",
    "                l[i], l[i + 1] = l[i + 1], l[i]\n",
    "                neighbors.append(int(''.join(l)))\n",
    "            if i % 3 != 0:\n",
    "                l = list(current_str)\n",
    "                l[i], l[i - 1] = l[i - 1], l[i]\n",
    "                neighbors.append(int(''.join(l)))\n",
    "            if i < 6:\n",
    "                l = list(current_str)\n",
    "                l[i], l[i + 3] = l[i + 3], l[i]\n",
    "                neighbors.append(int(''.join(l)))\n",
    "            if i > 2:\n",
    "                l = list(current_str)\n",
    "                l[i], l[i - 3] = l[i - 3], l[i]\n",
    "                neighbors.append(int(''.join(l)))\n",
    "\n",
    "            for neighbor in reversed(neighbors):\n",
    "                if neighbor not in visited or visited[neighbor] > depth + 1:\n",
    "                    visited[neighbor] = depth + 1\n",
    "                    if depth < limit:\n",
    "                        stack.append((depth + 1, neighbor))\n",
    "                        tree[neighbor] = current\n",
    "\n",
    "        limit += 1"
   ]
  },
  {
   "cell_type": "markdown",
   "id": "IfWu3ldIuj9Y",
   "metadata": {
    "id": "IfWu3ldIuj9Y"
   },
   "source": [
    "# Exemplo de uso"
   ]
  },
  {
   "cell_type": "code",
   "execution_count": null,
   "id": "7d6d2b1d",
   "metadata": {
    "colab": {
     "base_uri": "https://localhost:8080/"
    },
    "executionInfo": {
     "elapsed": 10060,
     "status": "ok",
     "timestamp": 1743971203622,
     "user": {
      "displayName": "Rafael",
      "userId": "15205371055636794135"
     },
     "user_tz": 180
    },
    "id": "7d6d2b1d",
    "outputId": "1f68ee93-ba84-4ebd-ead3-925161b36d4c"
   },
   "outputs": [],
   "source": [
    "puzzle = (0, 8, 7, 6, 5, 4, 3, 2, 1)\n",
    "print(\"BFS\")\n",
    "for key, value in bfs(puzzle).items():\n",
    "    print(f\"{key}: {value}\")\n",
    "print(\"DFS\")\n",
    "for key, value in dfs(puzzle).items():\n",
    "    print(f\"{key}: {value}\")\n",
    "print(\"IDFS\")\n",
    "for key, value in idfs(puzzle).items():\n",
    "    print(f\"{key}: {value}\")"
   ]
  },
  {
   "cell_type": "markdown",
   "id": "B26sym7Vwb3a",
   "metadata": {
    "id": "B26sym7Vwb3a"
   },
   "source": [
    "## Análise\n",
    "É possível observar que, dentre as 3 opções de algoritmos, o DFS obteve a solução mais longa, o IDFS obteve a menor solução, mas demorou em média 13x mais que os outros algoritmos, e, por fim, o BFS apresentou um equilíbrio entre velocidade e solução, sendo a melhor opção no geral."
   ]
  },
  {
   "cell_type": "code",
   "execution_count": null,
   "id": "VvPx7hSkyhVV",
   "metadata": {
    "colab": {
     "base_uri": "https://localhost:8080/"
    },
    "executionInfo": {
     "elapsed": 10062,
     "status": "ok",
     "timestamp": 1743972509326,
     "user": {
      "displayName": "Rafael",
      "userId": "15205371055636794135"
     },
     "user_tz": 180
    },
    "id": "VvPx7hSkyhVV",
    "outputId": "7c44140d-e642-4ae6-c6d9-941f7955eb5a"
   },
   "outputs": [],
   "source": [
    "puzzle = (1,2,3,4,5,6,7,0,8)\n",
    "print(\"BFS\")\n",
    "for key, value in bfs(puzzle).items():\n",
    "    print(f\"{key}: {value}\")\n",
    "print(\"DFS\")\n",
    "for key, value in dfs(puzzle).items():\n",
    "    print(f\"{key}: {value}\")\n",
    "print(\"IDFS\")\n",
    "for key, value in idfs(puzzle).items():\n",
    "    print(f\"{key}: {value}\")"
   ]
  },
  {
   "cell_type": "markdown",
   "id": "sYicEQhFyk9e",
   "metadata": {
    "id": "sYicEQhFyk9e"
   },
   "source": [
    "## Análise\n",
    "Nesse caso, os algoritmos BFS e IDFS chegam na solução de forma quase que instantânea, já que exploram mais opções de maneira imediata. Diferente do algoritmo DFS, que checa primeiro todas as opções que começam com \"Up\" para depois testar a próxima direção e chegar na solução. É possível otimizar o DFS para essa instância mudando a ordem em que os nós da árvore são checados(atualmente Down > Up > Left > Right), mas isso pioraria o desempenho de outras instâncias, o que no final não traria beneficio algum.\n",
    "\n",
    "Abaixo uma instância onde o DFS possui o mesmo desempenho dos outros algoritmos"
   ]
  },
  {
   "cell_type": "code",
   "execution_count": null,
   "id": "M2SyL3e30usS",
   "metadata": {
    "colab": {
     "base_uri": "https://localhost:8080/"
    },
    "executionInfo": {
     "elapsed": 48,
     "status": "ok",
     "timestamp": 1743972389801,
     "user": {
      "displayName": "Rafael",
      "userId": "15205371055636794135"
     },
     "user_tz": 180
    },
    "id": "M2SyL3e30usS",
    "outputId": "390ffc34-fe07-45fe-fbb6-78debe781587"
   },
   "outputs": [],
   "source": [
    "puzzle = (1,2,3,4,5,0,7,8,6)\n",
    "print(\"BFS\")\n",
    "for key, value in bfs(puzzle).items():\n",
    "    print(f\"{key}: {value}\")\n",
    "print(\"DFS\")\n",
    "for key, value in dfs(puzzle).items():\n",
    "    print(f\"{key}: {value}\")\n",
    "print(\"IDFS\")\n",
    "for key, value in idfs(puzzle).items():\n",
    "    print(f\"{key}: {value}\")"
   ]
  }
 ],
 "metadata": {
  "colab": {
   "provenance": []
  },
  "kernelspec": {
   "display_name": "Python 3",
   "language": "python",
   "name": "python3"
  },
  "language_info": {
   "name": "python",
   "version": "3.12.3"
  }
 },
 "nbformat": 4,
 "nbformat_minor": 5
}
